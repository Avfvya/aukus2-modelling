{
 "cells": [
  {
   "cell_type": "markdown",
   "id": "ef9547a6-bfc2-4524-85d3-9f6321e767a8",
   "metadata": {},
   "source": [
    "# Считаем среднюю длительность победного рана Аукуса\n",
    "\n",
    "1. Моделируем длительность средней игры на ауке;\n",
    "2. Моделируем простое около-оптимальное поведение агента;\n",
    "3. На Монте-Карлычах считаем среднюю длину в часах до победы, std, лучший ран и худший."
   ]
  },
  {
   "cell_type": "markdown",
   "id": "746d114b-2699-4c4e-bff9-bcd4d0b57abc",
   "metadata": {},
   "source": [
    "## Шаг 1: Моделирование длительности игры, выпавшей с аука\n",
    "\n",
    "1. Берём все игры стримаков с Аукуса 2 (файлик `aukus2_games.csv`);\n",
    "2. Подтягиваем данные с ХЛТБ, дропаем неподтянувшиеся;\n",
    "3. Хуярим гистограмму, используем её как плотность случайной величины длительности игры.\n",
    "\n",
    "Допущения/послабления на этом шаге:\n",
    "1. У разных стримеров разные аудитории, и реальная плотность будет отличаться от \"усреднённой\";\n",
    "2. Реальная плотность неоднорода: в зависимости от положения стримера на карте на ауках кидают качественно разные игры. Например, на 101 клетке очень большой % коротулек и очень большой % 50+ часов непроходимого говна;\n",
    "3. Неподтянутые игры с ХЛТБ надо подтянуть."
   ]
  },
  {
   "cell_type": "code",
   "execution_count": 40,
   "id": "8758a02b-87fc-4ebc-9f6c-47edac7a4b14",
   "metadata": {},
   "outputs": [],
   "source": [
    "import numpy as np\n",
    "import pandas as pd\n",
    "import seaborn as sns\n",
    "import scipy.stats as stats\n",
    "from functools import total_ordering\n",
    "\n",
    "import warnings\n",
    "warnings.simplefilter(action='ignore', category=FutureWarning)"
   ]
  },
  {
   "cell_type": "code",
   "execution_count": 3,
   "id": "62bd004d-3321-434a-b2df-ac36e107b7ed",
   "metadata": {},
   "outputs": [],
   "source": [
    "# pip install howlongtobeatpy\n",
    "from howlongtobeatpy import HowLongToBeat\n",
    "\n",
    "aukus2_games = pd.read_csv('aukus2_games.csv')\n",
    "\n",
    "def get_hltb_main_story_time_hours(game_name):\n",
    "    # print('Getting main story time for', game_name)\n",
    "    hltb_result = HowLongToBeat().search(game_name)\n",
    "    if not hltb_result:\n",
    "        # print(game_name, 'hltb was not found, returning 0')\n",
    "        return 0\n",
    "    \n",
    "    return HowLongToBeat().search(game_name)[0].main_story\n",
    "\n",
    "def get_all_hltb_times_hours():\n",
    "    streamer_to_hltbs = {}\n",
    "    \n",
    "    for streamer in aukus2_games.columns:\n",
    "        streamer_games = aukus2_games[streamer][~aukus2_games[streamer].isna()].reset_index(drop=True)\n",
    "        streamer_hltbs = list(map(get_hltb_main_story_time_hours, streamer_games))\n",
    "        streamer_to_hltbs[streamer] = streamer_hltbs\n",
    "        \n",
    "    all_hltbs = [item for sublist in streamer_to_hltbs.values() for item in sublist]\n",
    "    # дропаем неподтянувшиеся нахуй\n",
    "    all_hltbs = [num for num in all_hltbs if num != 0]\n",
    "\n",
    "    return all_hltbs\n",
    "\n",
    "def get_game_time_hours_rv(all_hltb_times_hours):\n",
    "    return stats.rv_histogram(np.histogram(all_hltb_times_hours, bins=40), density=False)"
   ]
  },
  {
   "cell_type": "code",
   "execution_count": null,
   "id": "fbb4f70d-ed8d-4dfa-8d5c-b7af8e75a79d",
   "metadata": {},
   "outputs": [],
   "source": [
    "all_hltbs = get_all_hltb_times_hours()"
   ]
  },
  {
   "cell_type": "code",
   "execution_count": 42,
   "id": "c659b963-cca1-4aa6-969f-bdf0db59e262",
   "metadata": {},
   "outputs": [
    {
     "data": {
      "text/plain": [
       "[Text(0.5, 0, 'Game duration hours')]"
      ]
     },
     "execution_count": 42,
     "metadata": {},
     "output_type": "execute_result"
    },
    {
     "data": {
      "image/png": "[encoded data removed]",
      "text/plain": [
       "<Figure size 640x480 with 1 Axes>"
      ]
     },
     "metadata": {},
     "output_type": "display_data"
    }
   ],
   "source": [
    "ax = sns.histplot(all_hltbs, bins=40, kde=True)\n",
    "ax.set(xlabel='Game duration hours')"
   ]
  },
  {
   "cell_type": "code",
   "execution_count": 8,
   "id": "ff339c78-8a7c-4e9a-9745-c7faebe49302",
   "metadata": {},
   "outputs": [],
   "source": [
    "game_time_hours_rv = get_game_time_hours_rv(all_hltbs)"
   ]
  },
  {
   "cell_type": "markdown",
   "id": "b6a6afab-9efe-4ee4-91dd-19909ddf60ff",
   "metadata": {},
   "source": [
    "## Шаг 2: Моделирование карты и действий агента\n",
    "\n",
    "Допущения/послабления на этом шаге:\n",
    "1. Продолжительность аука топорно предполагается нормально распределённой со средним значением 30 минут и стандартным отклонением в 3 минуты;\n",
    "2. Шанс дропа шейхом не на 101 клетке - 2% после каждого аука, на 101 клетке - шейх всегда пытается дропнуть 3 раза."
   ]
  },
  {
   "cell_type": "code",
   "execution_count": 11,
   "id": "21508336-9b61-4e7e-ad42-15721f886098",
   "metadata": {},
   "outputs": [],
   "source": [
    "AVG_AUK_TIME_MINUTES = 30\n",
    "AUK_TIME_STD = 3\n",
    "\n",
    "RANDOM_SHEIKH_DROP_CHANCE = 0.02\n",
    "\n",
    "def roll_auk_time_minutes():\n",
    "    return np.random.normal(AVG_AUK_TIME_MINUTES, AUK_TIME_STD)\n",
    "\n",
    "def roll_game_time_minutes():\n",
    "    return game_time_hours_rv.rvs() * 60\n",
    "\n",
    "def sheikh_drop(current_cell, game_time_minutes):\n",
    "    if current_cell == 101:\n",
    "        return np.random.binomial(3, 0.5) != 0\n",
    "    else:\n",
    "        return np.random.binomial(1, RANDOM_SHEIKH_DROP_CHANCE) == 1"
   ]
  },
  {
   "cell_type": "markdown",
   "id": "dc34531d-a491-4833-a320-786987444bb6",
   "metadata": {},
   "source": [
    "Лестницы и горки присутствуют. Игрок не может выкатиться за клетку 0 при отрицательном ролле. Игрок оказывается на 101 клетке обязательно, перед тем как пройти дальше."
   ]
  },
  {
   "cell_type": "code",
   "execution_count": 10,
   "id": "0014646a-4637-43c6-a7f6-68ea8b704852",
   "metadata": {},
   "outputs": [],
   "source": [
    "stairs = {\n",
    "    1: 20,\n",
    "    4: 25,\n",
    "    13: 46,\n",
    "    33: 49,\n",
    "    42: 63,\n",
    "    44: 68,\n",
    "    50: 69,\n",
    "    62: 81,\n",
    "    71: 90,\n",
    "    74: 92\n",
    "}\n",
    "\n",
    "tubes = {\n",
    "    21: 3,\n",
    "    27: 5,\n",
    "    43: 18,\n",
    "    47: 11,\n",
    "    54: 31,\n",
    "    66: 45,\n",
    "    76: 58,\n",
    "    89: 53,\n",
    "    94: 67,\n",
    "    96: 84,\n",
    "    97: 85,\n",
    "    99: 41\n",
    "}\n",
    "\n",
    "def move(current_cell, dice_roll):\n",
    "    if dice_roll < 0:\n",
    "        current_cell = max(current_cell + dice_roll, 0)\n",
    "    else:\n",
    "        if current_cell == 101:\n",
    "            current_cell += dice_roll\n",
    "        else:\n",
    "            current_cell = min(current_cell + dice_roll, 101)\n",
    "    \n",
    "    if current_cell in stairs:\n",
    "        current_cell = stairs[current_cell]\n",
    "    \n",
    "    if current_cell in tubes:\n",
    "        current_cell = tubes[current_cell]\n",
    "    \n",
    "    return current_cell"
   ]
  },
  {
   "cell_type": "markdown",
   "id": "5d2183ed-b84c-4fcc-a341-45dc129ffa02",
   "metadata": {},
   "source": [
    "Агент бросает кубик(и) в зависимости от продолжительности игры, статуса дропа игры, текущего положения на карте и целесообразности броска 1 или 2 кубиков. Кубики честные, шестисторонние."
   ]
  },
  {
   "cell_type": "code",
   "execution_count": 9,
   "id": "573ef6d2-d99a-488e-b04d-e78d98a05968",
   "metadata": {},
   "outputs": [],
   "source": [
    "def roll_dice(current_cell, game_was_dropped, rolled_game_time_minutes, one_roll_better):\n",
    "    if game_was_dropped:\n",
    "        if current_cell < 81:\n",
    "            return -np.random.randint(1, 7)\n",
    "        else:\n",
    "            return -np.random.randint(1, 7) - np.random.randint(1, 7)        \n",
    "    else:\n",
    "        if current_cell < 81:\n",
    "            if rolled_game_time_minutes < 15 * 60 or one_roll_better:\n",
    "                return np.random.randint(1, 7)\n",
    "            else:\n",
    "                return np.random.randint(1, 7) + np.random.randint(1, 7)\n",
    "        else:\n",
    "            return np.random.randint(1, 7)"
   ]
  },
  {
   "cell_type": "markdown",
   "id": "00f06a8c-0cb8-4c33-9514-33101b0c8d54",
   "metadata": {},
   "source": [
    "На 101 клетке агент будет дропать только игры дольше 60 часов по хлтб.\n",
    "На остальных клетках агент будет дропать только игры дольше 24 часов.\n",
    "Также, если позади агента находятся \"хорошие\" лестницы, то ему тоже есть смысл дропать: если в досягаемости 1 кубика сзади лестниц больше, чем горок."
   ]
  },
  {
   "cell_type": "code",
   "execution_count": 14,
   "id": "2dcd3be6-67b5-4fa3-a274-e3b1cccd6b9c",
   "metadata": {},
   "outputs": [],
   "source": [
    "def drop_makes_sense(current_cell, game_time_minutes):\n",
    "    if current_cell == 101 and game_time_minutes < 60 * 60:\n",
    "        return False\n",
    "    \n",
    "    if game_time_minutes > 24 * 60:\n",
    "        return True\n",
    "    \n",
    "    if good_stairs_behind(current_cell, game_time_minutes):\n",
    "        return True\n",
    "    \n",
    "    return False\n",
    "\n",
    "def good_stairs_behind(current_cell, game_time_minutes):\n",
    "    stairs_count = 0\n",
    "    tubes_count = 0\n",
    "    \n",
    "    for i in range(1, 7):\n",
    "        if current_cell - i in stairs:\n",
    "            stairs_count += 1\n",
    "        if current_cell - i in tubes:\n",
    "            tubes_count += 1\n",
    "        \n",
    "    return stairs_count > tubes_count"
   ]
  },
  {
   "cell_type": "markdown",
   "id": "0e675811-7247-442b-8d5e-b0608794e687",
   "metadata": {},
   "source": [
    "## Моделирование 1 рана Аукуса\n",
    "\n",
    "Ран происходит до тех пор, пока агент не выбрался на 102 клетку или дальше. Цикл прост:\n",
    "1. Потратили время на аук, наролили игру;\n",
    "2. Решили, дропать игру или нет (по \"оптимальной\" игре или из-за шейха);\n",
    "3. Если дропаем, добавляем час, если нет - добавляем время игры по ХЛТБ;\n",
    "4. Ролим кубик(и), переходим на новую клетку;\n",
    "5. Записываем ход в историю.\n",
    "\n",
    "Допущения/послабления:\n",
    "1. Полно игр с длительностью 15+ часов, которые стримеры проходят куда быстрее."
   ]
  },
  {
   "cell_type": "code",
   "execution_count": 16,
   "id": "15ca2a24-419e-4444-9f49-d4de6b32f7c0",
   "metadata": {},
   "outputs": [],
   "source": [
    "@total_ordering\n",
    "class AukusRunHistory():\n",
    "    \n",
    "    def __init__(self, hours_spent=0, history=[]):\n",
    "        self.hours_spent = hours_spent\n",
    "        self.history = history\n",
    "        \n",
    "    def __eq__(self, other):\n",
    "        return self.hours_spent == other.hours_spent\n",
    "    \n",
    "    def __lt__(self, other):\n",
    "        return self.hours_spent < other.hours_spent\n",
    "    \n",
    "    def __str__(self):\n",
    "        return str(self.hours_spent)\n",
    "    \n",
    "    def __repr__(self):\n",
    "        return str(self.hours_spent)\n",
    "\n",
    "def aukus_run_hours():\n",
    "    current_cell = 0\n",
    "    minutes_spent = 0\n",
    "    history = []\n",
    "    \n",
    "    while current_cell < 102:\n",
    "        minutes_spent += roll_auk_time_minutes()\n",
    "        \n",
    "        rolled_game_time_minutes = roll_game_time_minutes()\n",
    "        \n",
    "        game_dropped = drop_makes_sense(current_cell, rolled_game_time_minutes)\n",
    "        if not game_dropped:\n",
    "            game_dropped = sheikh_drop(current_cell, rolled_game_time_minutes)\n",
    "        \n",
    "        if game_dropped:\n",
    "            minutes_spent += 65 # min 60 minutes game time + 5 minutes trivia\n",
    "        else:\n",
    "            minutes_spent += rolled_game_time_minutes\n",
    "        \n",
    "        game_completion_dice_roll = roll_dice(current_cell, game_dropped, rolled_game_time_minutes, False)\n",
    "        \n",
    "        new_cell = move(current_cell, game_completion_dice_roll)\n",
    "        \n",
    "        history.append((current_cell, rolled_game_time_minutes / 60, game_completion_dice_roll, new_cell))\n",
    "        \n",
    "        current_cell = new_cell\n",
    "    \n",
    "    return AukusRunHistory(minutes_spent / 60, history)"
   ]
  },
  {
   "cell_type": "markdown",
   "id": "9522d805-b18a-48ae-80dc-2a3a66fe7430",
   "metadata": {},
   "source": [
    "## Шаг 3: Монте-Карло симу"
   ]
  },
  {
   "cell_type": "code",
   "execution_count": 21,
   "id": "a2f8ae72-d2ac-4bab-abb6-0662fd9829bf",
   "metadata": {},
   "outputs": [],
   "source": [
    "def mc_aukus(N):\n",
    "    np.random.seed(42)\n",
    "    \n",
    "    aukus_histories = []\n",
    "    \n",
    "    for run in range(N):\n",
    "        aukus_histories.append(aukus_run_hours())\n",
    "        # if run % (N / 100) == 0:\n",
    "        #     print(run / N * 100, '% done')\n",
    "    \n",
    "    aukus_times_hours = list(map(lambda history: history.hours_spent, aukus_histories))\n",
    "    \n",
    "    return np.mean(aukus_times_hours), np.std(aukus_times_hours), np.min(aukus_histories), np.max(aukus_histories), aukus_histories"
   ]
  },
  {
   "cell_type": "code",
   "execution_count": 22,
   "id": "d02f3384-8ba7-4309-8e10-261eca9c31d8",
   "metadata": {},
   "outputs": [],
   "source": [
    "aukus_mean_hours, aukus_std, best_run, slowest_run, histories = mc_aukus(10000)"
   ]
  },
  {
   "cell_type": "code",
   "execution_count": 23,
   "id": "135ca205-e9db-4884-9fc0-738e46c17faa",
   "metadata": {},
   "outputs": [
    {
     "data": {
      "text/plain": [
       "(4370.985709257422, 4165.4796656008675, 82.88811065110298, 34498.20143923202)"
      ]
     },
     "execution_count": 23,
     "metadata": {},
     "output_type": "execute_result"
    }
   ],
   "source": [
    "aukus_mean_hours, aukus_std, best_run, slowest_run"
   ]
  },
  {
   "cell_type": "code",
   "execution_count": 44,
   "id": "8403cf9c-5e10-493e-b555-c5bc43988c88",
   "metadata": {},
   "outputs": [
    {
     "data": {
      "text/plain": [
       "0.07800238069514143"
      ]
     },
     "execution_count": 44,
     "metadata": {},
     "output_type": "execute_result"
    },
    {
     "data": {
      "image/png": "[encoded data removed]",
      "text/plain": [
       "<Figure size 640x480 with 1 Axes>"
      ]
     },
     "metadata": {},
     "output_type": "display_data"
    }
   ],
   "source": [
    "aukus_times_hours = np.array(list(map(lambda history: history.hours_spent, histories)))\n",
    "ax = sns.histplot(aukus_times_hours, bins=50)\n",
    "ax.set(xlabel='Aukus run duration hours')\n",
    "stats.rv_histogram(np.histogram(aukus_times_hours, bins=50), density=False).cdf(480)"
   ]
  },
  {
   "cell_type": "markdown",
   "id": "4afeb177-d2c8-4e3b-ae95-5fe9a0aa7890",
   "metadata": {},
   "source": [
    "# Результаты\n",
    "\n",
    "* Продолжительность среднего рана: 4370 часов (~273 дня стримов по 16 часов)\n",
    "* Стандартное отклонение: 4165 часов (пизда)\n",
    "* Лучший ран: 82 часа\n",
    "* Худший ран: 34500 часов...\n",
    "* Всего лишь 7.8% ранов укладываются в 480 часов (30 дней стримов по 16 часов)"
   ]
  },
  {
   "cell_type": "code",
   "execution_count": 26,
   "id": "24349f18-8056-4136-9afe-5e7d04a188cd",
   "metadata": {},
   "outputs": [
    {
     "data": {
      "text/plain": [
       "[(0, 1.5773649874583981, 4, 25),\n",
       " (25, 2.0948124284976197, 3, 28),\n",
       " (28, 29.0456376348421, -3, 25),\n",
       " (25, 3.5164306376631567, 4, 29),\n",
       " (29, 3.612842121224763, -4, 25),\n",
       " (25, 6.129350593452612, 6, 31),\n",
       " (31, 34.967197580811664, -5, 26),\n",
       " (26, 10.483202078011997, 5, 31),\n",
       " (31, 3.036155332454153, 2, 49),\n",
       " (49, 1.6017022873074613, 1, 69),\n",
       " (69, 2.0445694137667307, 5, 92),\n",
       " (92, 6.566677074698573, 3, 95),\n",
       " (95, 14.863065302017123, 5, 100),\n",
       " (100, 4.523933853489077, 1, 101),\n",
       " (101, 15.681334169257685, 1, 102)]"
      ]
     },
     "execution_count": 26,
     "metadata": {},
     "output_type": "execute_result"
    }
   ],
   "source": [
    "best_run.history"
   ]
  }
 ],
 "metadata": {
  "kernelspec": {
   "display_name": "Python 3 (ipykernel)",
   "language": "python",
   "name": "python3"
  },
  "language_info": {
   "codemirror_mode": {
    "name": "ipython",
    "version": 3
   },
   "file_extension": ".py",
   "mimetype": "text/x-python",
   "name": "python",
   "nbconvert_exporter": "python",
   "pygments_lexer": "ipython3",
   "version": "3.11.7"
  }
 },
 "nbformat": 4,
 "nbformat_minor": 5
}
